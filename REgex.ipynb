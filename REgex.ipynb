{
 "cells": [
  {
   "cell_type": "code",
   "execution_count": 4,
   "metadata": {},
   "outputs": [
    {
     "name": "stdout",
     "output_type": "stream",
     "text": [
      "Sentiment Sentence: this sentence and tell me its sentiment.\n",
      "Request Part: Analyze\n"
     ]
    }
   ],
   "source": [
    "'''\n",
    "import re\n",
    "\n",
    "def split_request(sentence):\n",
    "    pattern = r'^(analyze|evaluate|check|determine|tell me) (.+)$'\n",
    "    match = re.match(pattern, sentence, re.IGNORECASE)\n",
    "    if match:\n",
    "        request_part = match.group(1)\n",
    "        sentiment_sentence = match.group(2)\n",
    "        return sentiment_sentence, request_part\n",
    "    else:\n",
    "        return None, None\n",
    "\n",
    "# Example usage\n",
    "user_input = \"Analyze this sentence and tell me its sentiment.\"\n",
    "sentiment, request = split_request(user_input)\n",
    "print(\"Sentiment Sentence:\", sentiment)\n",
    "print(\"Request Part:\", request)\n",
    "'''"
   ]
  },
  {
   "cell_type": "code",
   "execution_count": 8,
   "metadata": {},
   "outputs": [
    {
     "name": "stdout",
     "output_type": "stream",
     "text": [
      "Sentiment Sentence: This Sentence and tell me its sentiment.\n",
      "Request Part: Analyze\n"
     ]
    }
   ],
   "source": [
    "def split_request(sentence):\n",
    "    pattern = r'^(analyze|evaluate|check|determine|tell me):\\s?(.+)$'\n",
    "    match = re.match(pattern, sentence, re.IGNORECASE)\n",
    "    if match:\n",
    "        request_part = match.group(1)\n",
    "        sentiment_sentence = match.group(2)\n",
    "        return sentiment_sentence, request_part\n",
    "    else:\n",
    "        return None, None\n",
    "\n",
    "# Example usage\n",
    "user_input = \"Analyze: This Sentence and tell me its sentiment.\"\n",
    "sentiment, request = split_request(user_input)\n",
    "print(\"Sentiment Sentence:\", sentiment)\n",
    "print(\"Request Part:\", request)"
   ]
  }
 ],
 "metadata": {
  "kernelspec": {
   "display_name": ".venv",
   "language": "python",
   "name": "python3"
  },
  "language_info": {
   "codemirror_mode": {
    "name": "ipython",
    "version": 3
   },
   "file_extension": ".py",
   "mimetype": "text/x-python",
   "name": "python",
   "nbconvert_exporter": "python",
   "pygments_lexer": "ipython3",
   "version": "3.11.4"
  },
  "orig_nbformat": 4
 },
 "nbformat": 4,
 "nbformat_minor": 2
}
